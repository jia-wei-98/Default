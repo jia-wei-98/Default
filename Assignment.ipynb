{
 "cells": [
  {
   "cell_type": "code",
   "execution_count": 1,
   "id": "823772c1",
   "metadata": {},
   "outputs": [],
   "source": [
    "import pandas as pd"
   ]
  },
  {
   "cell_type": "code",
   "execution_count": 2,
   "id": "20958051",
   "metadata": {},
   "outputs": [],
   "source": [
    "df = pd.read_csv(\"Credit Card Default II (balance).csv\")"
   ]
  },
  {
   "cell_type": "code",
   "execution_count": 3,
   "id": "5c07a70a",
   "metadata": {},
   "outputs": [
    {
     "name": "stdout",
     "output_type": "stream",
     "text": [
      "            income        age          loan  default\n",
      "0     66155.925100  59.017015   8106.532131        0\n",
      "1     34415.153970  48.117153   6564.745018        0\n",
      "2     57317.170060  63.108049   8020.953296        0\n",
      "3     42709.534200  45.751972   6103.642260        0\n",
      "4     66952.688850  18.584336   8770.099235        1\n",
      "...            ...        ...           ...      ...\n",
      "3423  60903.191726  21.933924  10367.081892        1\n",
      "3424  62235.644695  25.033016   8083.900063        1\n",
      "3425  25597.850590  26.350344   3810.110335        1\n",
      "3426  48164.194974  23.141976   6529.652892        1\n",
      "3427  33055.808635  26.289612   5351.851138        1\n",
      "\n",
      "[3428 rows x 4 columns]\n"
     ]
    }
   ],
   "source": [
    "print (df)"
   ]
  },
  {
   "cell_type": "markdown",
   "id": "2836ba34",
   "metadata": {},
   "source": [
    "## Data Wrangling"
   ]
  },
  {
   "cell_type": "code",
   "execution_count": 4,
   "id": "13a540b3",
   "metadata": {},
   "outputs": [
    {
     "name": "stdout",
     "output_type": "stream",
     "text": [
      "            income        age          loan  default\n",
      "0     66155.925100  59.017015   8106.532131        0\n",
      "1     34415.153970  48.117153   6564.745018        0\n",
      "2     57317.170060  63.108049   8020.953296        0\n",
      "3     42709.534200  45.751972   6103.642260        0\n",
      "4     66952.688850  18.584336   8770.099235        1\n",
      "...            ...        ...           ...      ...\n",
      "3423  60903.191726  21.933924  10367.081892        1\n",
      "3424  62235.644695  25.033016   8083.900063        1\n",
      "3425  25597.850590  26.350344   3810.110335        1\n",
      "3426  48164.194974  23.141976   6529.652892        1\n",
      "3427  33055.808635  26.289612   5351.851138        1\n",
      "\n",
      "[3428 rows x 4 columns]\n"
     ]
    }
   ],
   "source": [
    "# removing na\n",
    "df = df.dropna()\n",
    "print(df)"
   ]
  },
  {
   "cell_type": "code",
   "execution_count": 5,
   "id": "db3fb5ab",
   "metadata": {},
   "outputs": [
    {
     "name": "stdout",
     "output_type": "stream",
     "text": [
      "            income        age          loan  default\n",
      "0     66155.925100  59.017015   8106.532131        0\n",
      "1     34415.153970  48.117153   6564.745018        0\n",
      "2     57317.170060  63.108049   8020.953296        0\n",
      "3     42709.534200  45.751972   6103.642260        0\n",
      "4     66952.688850  18.584336   8770.099235        1\n",
      "...            ...        ...           ...      ...\n",
      "3423  60903.191726  21.933924  10367.081892        1\n",
      "3424  62235.644695  25.033016   8083.900063        1\n",
      "3425  25597.850590  26.350344   3810.110335        1\n",
      "3426  48164.194974  23.141976   6529.652892        1\n",
      "3427  33055.808635  26.289612   5351.851138        1\n",
      "\n",
      "[3428 rows x 4 columns]\n"
     ]
    }
   ],
   "source": [
    "#removing non numbers\n",
    "for i in df.columns:\n",
    "    df1 = pd.to_numeric(df[i], errors='coerce')\n",
    "    f = df1.notnull()\n",
    "    df=df[f]\n",
    "print(df)"
   ]
  },
  {
   "cell_type": "code",
   "execution_count": 6,
   "id": "bc38e9af",
   "metadata": {},
   "outputs": [
    {
     "name": "stdout",
     "output_type": "stream",
     "text": [
      "            income        age          loan  default\n",
      "0     66155.925100  59.017015   8106.532131        0\n",
      "1     34415.153970  48.117153   6564.745018        0\n",
      "2     57317.170060  63.108049   8020.953296        0\n",
      "3     42709.534200  45.751972   6103.642260        0\n",
      "4     66952.688850  18.584336   8770.099235        1\n",
      "...            ...        ...           ...      ...\n",
      "3423  60903.191726  21.933924  10367.081892        1\n",
      "3424  62235.644695  25.033016   8083.900063        1\n",
      "3425  25597.850590  26.350344   3810.110335        1\n",
      "3426  48164.194974  23.141976   6529.652892        1\n",
      "3427  33055.808635  26.289612   5351.851138        1\n",
      "\n",
      "[3424 rows x 4 columns]\n"
     ]
    }
   ],
   "source": [
    "# removing outliers\n",
    "import numpy as np\n",
    "from scipy import stats\n",
    "\n",
    "z = stats.zscore(df.astype(float))\n",
    "z = np.abs(z)\n",
    "#assumming values with standard deviation of more than absolute 2.5 as outliers\n",
    "f = (z < 2.5).all(axis=1)\n",
    "df = df[f]\n",
    "print(df)"
   ]
  },
  {
   "cell_type": "code",
   "execution_count": 7,
   "id": "1eedfd1f",
   "metadata": {},
   "outputs": [
    {
     "data": {
      "text/plain": [
       "array([0, 1])"
      ]
     },
     "execution_count": 7,
     "metadata": {},
     "output_type": "execute_result"
    }
   ],
   "source": [
    "pd.unique(df[[\"default\"]].values.ravel())\n",
    "# shows that default is binary, no additional cleaning required"
   ]
  },
  {
   "cell_type": "code",
   "execution_count": 8,
   "id": "98fc5782",
   "metadata": {},
   "outputs": [
    {
     "name": "stdout",
     "output_type": "stream",
     "text": [
      "            income        age          loan  default\n",
      "0     66155.925100  59.017015   8106.532131        0\n",
      "1     34415.153970  48.117153   6564.745018        0\n",
      "2     57317.170060  63.108049   8020.953296        0\n",
      "3     42709.534200  45.751972   6103.642260        0\n",
      "4     66952.688850  18.584336   8770.099235        1\n",
      "...            ...        ...           ...      ...\n",
      "3423  60903.191726  21.933924  10367.081892        1\n",
      "3424  62235.644695  25.033016   8083.900063        1\n",
      "3425  25597.850590  26.350344   3810.110335        1\n",
      "3426  48164.194974  23.141976   6529.652892        1\n",
      "3427  33055.808635  26.289612   5351.851138        1\n",
      "\n",
      "[3424 rows x 4 columns]\n"
     ]
    }
   ],
   "source": [
    "# removing columns with negative values\n",
    "df = df[(df['income']>0) & (df['age']>0) & (df['loan']>0)]\n",
    "print (df)"
   ]
  },
  {
   "cell_type": "code",
   "execution_count": 9,
   "id": "dd77320d",
   "metadata": {},
   "outputs": [],
   "source": [
    "X = df.loc[:,[\"income\", \"age\", \"loan\"]]\n",
    "Y = df.loc[:, \"default\"]"
   ]
  },
  {
   "cell_type": "code",
   "execution_count": 10,
   "id": "cad452ec",
   "metadata": {},
   "outputs": [],
   "source": [
    "from sklearn.model_selection import train_test_split\n",
    "X_train, X_test, Y_train, Y_test = train_test_split(X,Y, random_state = 1234)"
   ]
  },
  {
   "cell_type": "markdown",
   "id": "7ee16616",
   "metadata": {},
   "source": [
    "## Logistic Regression"
   ]
  },
  {
   "cell_type": "code",
   "execution_count": 11,
   "id": "46b5ea71",
   "metadata": {},
   "outputs": [
    {
     "data": {
      "text/plain": [
       "LogisticRegression()"
      ]
     },
     "execution_count": 11,
     "metadata": {},
     "output_type": "execute_result"
    }
   ],
   "source": [
    "from sklearn import linear_model\n",
    "reg_model = linear_model.LogisticRegression()\n",
    "reg_model.fit(X_train,Y_train)"
   ]
  },
  {
   "cell_type": "code",
   "execution_count": 12,
   "id": "45ee985a",
   "metadata": {},
   "outputs": [
    {
     "name": "stdout",
     "output_type": "stream",
     "text": [
      "[[1139  147]\n",
      " [ 232 1050]]\n",
      "0.8524143302180686\n"
     ]
    }
   ],
   "source": [
    "# train set accuracy\n",
    "from sklearn.metrics import confusion_matrix\n",
    "pred = reg_model.predict(X_train)\n",
    "cm = confusion_matrix(Y_train, pred)\n",
    "print(cm)\n",
    "accuracy = (cm[0,0]+cm[1,1])/sum(sum(cm))\n",
    "print(accuracy)"
   ]
  },
  {
   "cell_type": "code",
   "execution_count": 13,
   "id": "0eef05d3",
   "metadata": {},
   "outputs": [
    {
     "name": "stdout",
     "output_type": "stream",
     "text": [
      "[[371  53]\n",
      " [ 62 370]]\n",
      "0.8656542056074766\n"
     ]
    }
   ],
   "source": [
    "# test set accuracy\n",
    "pred = reg_model.predict(X_test)\n",
    "cm = confusion_matrix(Y_test, pred)\n",
    "print(cm)\n",
    "accuracy = (cm[0,0]+cm[1,1])/sum(sum(cm))\n",
    "print(accuracy)"
   ]
  },
  {
   "cell_type": "markdown",
   "id": "4ca12aff",
   "metadata": {},
   "source": [
    "## Decision Tree"
   ]
  },
  {
   "cell_type": "code",
   "execution_count": 14,
   "id": "84358f40",
   "metadata": {},
   "outputs": [
    {
     "data": {
      "text/plain": [
       "{'max_depth': 10}"
      ]
     },
     "execution_count": 14,
     "metadata": {},
     "output_type": "execute_result"
    }
   ],
   "source": [
    "from sklearn import tree\n",
    "from sklearn.model_selection import GridSearchCV\n",
    "tree_model = tree.DecisionTreeClassifier(random_state = 0)\n",
    "g = GridSearchCV(estimator = tree_model, param_grid=dict(max_depth = [i for i in range (1,30)]))\n",
    "g = g.fit(X_train, Y_train)\n",
    "g.best_params_"
   ]
  },
  {
   "cell_type": "code",
   "execution_count": 15,
   "id": "e2f47833",
   "metadata": {},
   "outputs": [
    {
     "data": {
      "text/plain": [
       "DecisionTreeClassifier(max_depth=10, random_state=0)"
      ]
     },
     "execution_count": 15,
     "metadata": {},
     "output_type": "execute_result"
    }
   ],
   "source": [
    "tree_model = tree.DecisionTreeClassifier(max_depth = 10, random_state = 0)\n",
    "tree_model.fit(X_train, Y_train)"
   ]
  },
  {
   "cell_type": "code",
   "execution_count": 16,
   "id": "37380137",
   "metadata": {},
   "outputs": [
    {
     "name": "stdout",
     "output_type": "stream",
     "text": [
      "1.0\n"
     ]
    }
   ],
   "source": [
    "# Train set accuracy\n",
    "pred = tree_model.predict(X_train)\n",
    "cm = confusion_matrix(Y_train, pred)\n",
    "print((cm[0,0]+cm[1,1])/(sum(sum(cm))))"
   ]
  },
  {
   "cell_type": "code",
   "execution_count": 17,
   "id": "1d4c7b18",
   "metadata": {},
   "outputs": [
    {
     "name": "stdout",
     "output_type": "stream",
     "text": [
      "0.991822429906542\n"
     ]
    }
   ],
   "source": [
    "# Test set accuracy\n",
    "pred = tree_model.predict(X_test)\n",
    "cm = confusion_matrix(Y_test, pred)\n",
    "print((cm[0,0]+cm[1,1])/(sum(sum(cm))))"
   ]
  },
  {
   "cell_type": "markdown",
   "id": "e4484ebc",
   "metadata": {},
   "source": [
    "## Random Forest"
   ]
  },
  {
   "cell_type": "code",
   "execution_count": 18,
   "id": "88a729d5",
   "metadata": {},
   "outputs": [
    {
     "data": {
      "text/plain": [
       "RandomForestClassifier(random_state=0)"
      ]
     },
     "execution_count": 18,
     "metadata": {},
     "output_type": "execute_result"
    }
   ],
   "source": [
    "from sklearn import ensemble\n",
    "random_model = ensemble.RandomForestClassifier(random_state = 0)\n",
    "random_model.fit(X_train, Y_train)"
   ]
  },
  {
   "cell_type": "code",
   "execution_count": 19,
   "id": "46df7d6a",
   "metadata": {},
   "outputs": [
    {
     "data": {
      "text/plain": [
       "{'max_depth': 15}"
      ]
     },
     "execution_count": 19,
     "metadata": {},
     "output_type": "execute_result"
    }
   ],
   "source": [
    "g = GridSearchCV(estimator = random_model, param_grid=dict(max_depth = [i for i in range (1,30)]))\n",
    "g = g.fit(X_train, Y_train)\n",
    "g.best_params_"
   ]
  },
  {
   "cell_type": "code",
   "execution_count": 20,
   "id": "b2b78c15",
   "metadata": {},
   "outputs": [
    {
     "data": {
      "text/plain": [
       "RandomForestClassifier(max_depth=15, random_state=0)"
      ]
     },
     "execution_count": 20,
     "metadata": {},
     "output_type": "execute_result"
    }
   ],
   "source": [
    "random_model = ensemble.RandomForestClassifier(random_state = 0, max_depth = 15)\n",
    "random_model.fit(X_train, Y_train)"
   ]
  },
  {
   "cell_type": "code",
   "execution_count": 21,
   "id": "1c6d3e3d",
   "metadata": {},
   "outputs": [
    {
     "name": "stdout",
     "output_type": "stream",
     "text": [
      "1.0\n"
     ]
    }
   ],
   "source": [
    "# Train set accuracy\n",
    "pred = random_model.predict(X_train)\n",
    "cm = confusion_matrix(Y_train, pred)\n",
    "print((cm[0,0]+cm[1,1])/(sum(sum(cm))))"
   ]
  },
  {
   "cell_type": "code",
   "execution_count": 22,
   "id": "f3816220",
   "metadata": {},
   "outputs": [
    {
     "name": "stdout",
     "output_type": "stream",
     "text": [
      "0.9906542056074766\n"
     ]
    }
   ],
   "source": [
    "# Test set accuracy\n",
    "pred = random_model.predict(X_test)\n",
    "cm = confusion_matrix(Y_test, pred)\n",
    "print((cm[0,0]+cm[1,1])/(sum(sum(cm))))"
   ]
  },
  {
   "cell_type": "markdown",
   "id": "4de2d506",
   "metadata": {},
   "source": [
    "## XGBoost"
   ]
  },
  {
   "cell_type": "code",
   "execution_count": 23,
   "id": "55ac8aa5",
   "metadata": {},
   "outputs": [
    {
     "data": {
      "text/plain": [
       "{'max_depth': 15}"
      ]
     },
     "execution_count": 23,
     "metadata": {},
     "output_type": "execute_result"
    }
   ],
   "source": [
    "from sklearn.ensemble import GradientBoostingClassifier\n",
    "XG_model = GradientBoostingClassifier(random_state = 0)\n",
    "g = GridSearchCV(estimator = random_model, param_grid=dict(max_depth = [i for i in range (1,30)]))\n",
    "g = g.fit(X_train, Y_train)\n",
    "g.best_params_"
   ]
  },
  {
   "cell_type": "code",
   "execution_count": 24,
   "id": "2961ea90",
   "metadata": {},
   "outputs": [
    {
     "data": {
      "text/plain": [
       "GradientBoostingClassifier(max_depth=15, random_state=0)"
      ]
     },
     "execution_count": 24,
     "metadata": {},
     "output_type": "execute_result"
    }
   ],
   "source": [
    "XG_model = GradientBoostingClassifier(random_state = 0, max_depth = 15)\n",
    "XG_model.fit(X_train, Y_train)"
   ]
  },
  {
   "cell_type": "code",
   "execution_count": 25,
   "id": "84f43011",
   "metadata": {},
   "outputs": [
    {
     "name": "stdout",
     "output_type": "stream",
     "text": [
      "1.0\n"
     ]
    }
   ],
   "source": [
    "# Train set accuracy\n",
    "pred = XG_model.predict(X_train)\n",
    "cm = confusion_matrix(Y_train, pred)\n",
    "print((cm[0,0]+cm[1,1])/(sum(sum(cm))))"
   ]
  },
  {
   "cell_type": "code",
   "execution_count": 26,
   "id": "311d5134",
   "metadata": {},
   "outputs": [
    {
     "name": "stdout",
     "output_type": "stream",
     "text": [
      "0.9906542056074766\n"
     ]
    }
   ],
   "source": [
    "# Test set accuracy\n",
    "pred = random_model.predict(X_test)\n",
    "cm = confusion_matrix(Y_test, pred)\n",
    "print((cm[0,0]+cm[1,1])/(sum(sum(cm))))"
   ]
  },
  {
   "cell_type": "markdown",
   "id": "c271ca0d",
   "metadata": {},
   "source": [
    "## Neural Network"
   ]
  },
  {
   "cell_type": "code",
   "execution_count": 28,
   "id": "0b589b62",
   "metadata": {},
   "outputs": [
    {
     "name": "stdout",
     "output_type": "stream",
     "text": [
      "        income       age      loan  default\n",
      "0     0.923176  0.892092  0.602968      0.0\n",
      "1     0.288122  0.654708  0.488270      0.0\n",
      "2     0.746334  0.981189  0.596602      0.0\n",
      "3     0.454072  0.603198  0.453967      0.0\n",
      "4     0.939117  0.011524  0.652333      1.0\n",
      "...        ...       ...       ...      ...\n",
      "3419  0.818082  0.084473  0.771138      1.0\n",
      "3420  0.844741  0.151967  0.601284      1.0\n",
      "3421  0.111709  0.180657  0.283344      1.0\n",
      "3422  0.563206  0.110783  0.485659      1.0\n",
      "3423  0.260925  0.179334  0.398039      1.0\n",
      "\n",
      "[3424 rows x 4 columns]\n"
     ]
    }
   ],
   "source": [
    "from sklearn import preprocessing\n",
    "\n",
    "scaler = preprocessing.MinMaxScaler()\n",
    "names = df.columns\n",
    "x_scaled = scaler.fit_transform(df)\n",
    "df1 = pd.DataFrame(x_scaled, columns = names)\n",
    "print (df1)"
   ]
  },
  {
   "cell_type": "code",
   "execution_count": 29,
   "id": "acfa7f9f",
   "metadata": {},
   "outputs": [],
   "source": [
    "X1 = df1.loc[:,[\"income\", \"age\", \"loan\"]]\n",
    "Y1 = df1.loc[:, \"default\"]\n",
    "X_train1, X_test1, Y_train1, Y_test1 = train_test_split(X1,Y1, random_state = 0)"
   ]
  },
  {
   "cell_type": "code",
   "execution_count": 30,
   "id": "23ea805d",
   "metadata": {},
   "outputs": [],
   "source": [
    "from sklearn.neural_network import MLPClassifier\n",
    "MLP_model = MLPClassifier(solver=\"lbfgs\", hidden_layer_sizes = (50,2), random_state = 0 ).fit(X_train1,Y_train1)"
   ]
  },
  {
   "cell_type": "code",
   "execution_count": 31,
   "id": "d31d8b87",
   "metadata": {},
   "outputs": [
    {
     "name": "stdout",
     "output_type": "stream",
     "text": [
      "[[1294    0]\n",
      " [   0 1274]]\n",
      "1.0\n"
     ]
    }
   ],
   "source": [
    "# Train set accuracy\n",
    "pred = MLP_model.predict(X_train1)\n",
    "cm = confusion_matrix(Y_train1, pred)\n",
    "print (cm)\n",
    "print((cm[0,0]+cm[1,1])/(sum(sum(cm))))"
   ]
  },
  {
   "cell_type": "code",
   "execution_count": 32,
   "id": "34035f5f",
   "metadata": {},
   "outputs": [
    {
     "name": "stdout",
     "output_type": "stream",
     "text": [
      "[[415   1]\n",
      " [  0 440]]\n",
      "0.9988317757009346\n"
     ]
    }
   ],
   "source": [
    "# Test set accuracy\n",
    "pred = MLP_model.predict(X_test1)\n",
    "cm = confusion_matrix(Y_test1, pred)\n",
    "print (cm)\n",
    "print((cm[0,0]+cm[1,1])/(sum(sum(cm))))"
   ]
  },
  {
   "cell_type": "markdown",
   "id": "baf1ab25",
   "metadata": {},
   "source": [
    "## Upload to heroku"
   ]
  },
  {
   "cell_type": "code",
   "execution_count": 33,
   "id": "e47efc0f",
   "metadata": {},
   "outputs": [],
   "source": [
    "import joblib"
   ]
  },
  {
   "cell_type": "code",
   "execution_count": 34,
   "id": "19bd1213",
   "metadata": {},
   "outputs": [
    {
     "data": {
      "text/plain": [
       "['Regression']"
      ]
     },
     "execution_count": 34,
     "metadata": {},
     "output_type": "execute_result"
    }
   ],
   "source": [
    "joblib.dump(reg_model, \"Regression\")"
   ]
  },
  {
   "cell_type": "code",
   "execution_count": 35,
   "id": "3bf3c297",
   "metadata": {},
   "outputs": [
    {
     "data": {
      "text/plain": [
       "['Tree']"
      ]
     },
     "execution_count": 35,
     "metadata": {},
     "output_type": "execute_result"
    }
   ],
   "source": [
    "joblib.dump(tree_model, \"Tree\")"
   ]
  },
  {
   "cell_type": "code",
   "execution_count": 36,
   "id": "eb48480b",
   "metadata": {},
   "outputs": [
    {
     "data": {
      "text/plain": [
       "['Random']"
      ]
     },
     "execution_count": 36,
     "metadata": {},
     "output_type": "execute_result"
    }
   ],
   "source": [
    "joblib.dump(random_model, \"Random\")"
   ]
  },
  {
   "cell_type": "code",
   "execution_count": 37,
   "id": "44fe3046",
   "metadata": {},
   "outputs": [
    {
     "data": {
      "text/plain": [
       "['XG']"
      ]
     },
     "execution_count": 37,
     "metadata": {},
     "output_type": "execute_result"
    }
   ],
   "source": [
    "joblib.dump(XG_model, \"XG\")"
   ]
  },
  {
   "cell_type": "code",
   "execution_count": 38,
   "id": "c7db62c5",
   "metadata": {},
   "outputs": [
    {
     "data": {
      "text/plain": [
       "['MLP']"
      ]
     },
     "execution_count": 38,
     "metadata": {},
     "output_type": "execute_result"
    }
   ],
   "source": [
    "joblib.dump(MLP_model, \"MLP\")"
   ]
  }
 ],
 "metadata": {
  "kernelspec": {
   "display_name": "Python 3 (ipykernel)",
   "language": "python",
   "name": "python3"
  },
  "language_info": {
   "codemirror_mode": {
    "name": "ipython",
    "version": 3
   },
   "file_extension": ".py",
   "mimetype": "text/x-python",
   "name": "python",
   "nbconvert_exporter": "python",
   "pygments_lexer": "ipython3",
   "version": "3.9.7"
  }
 },
 "nbformat": 4,
 "nbformat_minor": 5
}
